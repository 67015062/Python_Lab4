{
  "nbformat": 4,
  "nbformat_minor": 0,
  "metadata": {
    "colab": {
      "provenance": [],
      "include_colab_link": true
    },
    "kernelspec": {
      "name": "python3",
      "display_name": "Python 3"
    },
    "language_info": {
      "name": "python"
    }
  },
  "cells": [
    {
      "cell_type": "markdown",
      "metadata": {
        "id": "view-in-github",
        "colab_type": "text"
      },
      "source": [
        "<a href=\"https://colab.research.google.com/github/67015062/Python_Lab4/blob/main/Lab_4.ipynb\" target=\"_parent\"><img src=\"https://colab.research.google.com/assets/colab-badge.svg\" alt=\"Open In Colab\"/></a>"
      ]
    },
    {
      "cell_type": "markdown",
      "source": [
        "4.1 2520 คือ ตัวเลขที่น้อยที่สุด ที่สามารถหารด้วยตัวเลขทุกตัวตั้งแต่ 1-10 จงหาจำนวนเต็มบวกที่น้อยที่สุดที่หารด้วยตัวเลขทุกตัวตั้งแต่ 1-20\n",
        "\n",
        "15 = 360360\n",
        "\n",
        "20 = 232792560\n",
        "\n",
        "ปล. ห้าม import math"
      ],
      "metadata": {
        "id": "-bpz7hteQPdz"
      }
    },
    {
      "cell_type": "code",
      "execution_count": 23,
      "metadata": {
        "id": "HSZUXcF2QMVn",
        "outputId": "591ed455-f133-489f-9c5b-01496a75a446",
        "colab": {
          "base_uri": "https://localhost:8080/"
        }
      },
      "outputs": [
        {
          "output_type": "stream",
          "name": "stdout",
          "text": [
            "232792560\n"
          ]
        }
      ],
      "source": [
        "lcm = 1\n",
        "for i in range(1,21):\n",
        "  loop_num = i\n",
        "  multi  = 2\n",
        "  while loop_num > 1 :\n",
        "    expo = 0\n",
        "    while loop_num % multi == 0 :\n",
        "      loop_num //= multi\n",
        "      expo += 1\n",
        "    mix = multi ** expo\n",
        "    while lcm % mix != 0 :\n",
        "      lcm *= multi\n",
        "    multi += 1\n",
        "print(lcm)"
      ]
    },
    {
      "cell_type": "markdown",
      "source": [
        "4.2 จำนวนเฉพาะ (Prime Number) คือตัวเลขที่มีแต่ 1 กับตัวมันเองที่หารลงตัว โดยจำนวนเฉพาะ 6 ตัวแรกคือ 2, 3, 5, 7, 11, 13 โดยจำนวนเฉพาะตัวที่ 6 คือ 13 จงหาจำนวนเฉพาะตัวที่ 101\n",
        "\n",
        "=> 547"
      ],
      "metadata": {
        "id": "Wq1EFYHUWNOA"
      }
    },
    {
      "cell_type": "code",
      "source": [
        "num_in = 101\n",
        "i = 2\n",
        "prime_list = [2]\n",
        "while True :\n",
        "    prime = True\n",
        "    for j in prime_list :\n",
        "        if i % j == 0 :\n",
        "            prime = False\n",
        "            break\n",
        "    if prime == True :\n",
        "        prime_list.append(i)\n",
        "    i += 1\n",
        "    if len(prime_list) == num_in :\n",
        "        break\n",
        "print(prime_list)"
      ],
      "metadata": {
        "colab": {
          "base_uri": "https://localhost:8080/"
        },
        "id": "cpMa6Vp0Vz_L",
        "outputId": "5c5ebe99-2f28-4e37-836f-0abaaba61a53"
      },
      "execution_count": 8,
      "outputs": [
        {
          "output_type": "stream",
          "name": "stdout",
          "text": [
            "[2, 3, 5, 7, 11, 13, 17, 19, 23, 29, 31, 37, 41, 43, 47, 53, 59, 61, 67, 71, 73, 79, 83, 89, 97, 101, 103, 107, 109, 113, 127, 131, 137, 139, 149, 151, 157, 163, 167, 173, 179, 181, 191, 193, 197, 199, 211, 223, 227, 229, 233, 239, 241, 251, 257, 263, 269, 271, 277, 281, 283, 293, 307, 311, 313, 317, 331, 337, 347, 349, 353, 359, 367, 373, 379, 383, 389, 397, 401, 409, 419, 421, 431, 433, 439, 443, 449, 457, 461, 463, 467, 479, 487, 491, 499, 503, 509, 521, 523, 541, 547]\n"
          ]
        }
      ]
    },
    {
      "cell_type": "markdown",
      "source": [
        "1.\tกำหนดให้มี List หนึ่งประกอบด้วยตัวเลขจำนวนหนึ่ง และ ให้รับตัวเลขจำนวน 1 จำนวน จากนั้นให้หาว่าใน List มีตัวเลข 2 จำนวนใดที่บวกกันเท่ากับตัวเลขที่รับมา ให้แสดงคำตอบเป็น List เช่น Output: [0,1] โดยอาจมีมากกว่า 1 คำตอบ\n",
        "\n",
        "ตัวอย่าง list : [2, 7, 11, 15]\n",
        "\n",
        "Input : 9\n",
        "\n",
        "Output : 2 + 7 = 9 (ถ้าไม่มีให้บอก None)\n"
      ],
      "metadata": {
        "id": "-pUpw-m_WqFG"
      }
    },
    {
      "cell_type": "code",
      "source": [
        "num_list = [2, 7, 11, 15]\n",
        "num_in = int(input('Input number: '))\n",
        "found = False\n",
        "for i in range(len(num_list)):\n",
        "    for j in range(i + 1, len(num_list)):\n",
        "        if num_list[i] + num_list[j] == num_in:\n",
        "            print(num_list[i], '+', num_list[j], '=', num_list[i] + num_list[j])\n",
        "            found = True\n",
        "if found == False:\n",
        "    print('None')"
      ],
      "metadata": {
        "id": "s3djwBi4ks1g",
        "outputId": "2b5e2899-55d3-4450-99a3-27a8c5e29a1e",
        "colab": {
          "base_uri": "https://localhost:8080/"
        }
      },
      "execution_count": 9,
      "outputs": [
        {
          "output_type": "stream",
          "name": "stdout",
          "text": [
            "Input number: 9\n",
            "2 + 7 = 9\n"
          ]
        }
      ]
    },
    {
      "cell_type": "markdown",
      "source": [
        "2.\tให้เขียนโปรแกรมรับข้อมูล 1 บรรทัด ประกอบด้วยตัวเลข 1 หลัก จำนวนไม่เกิน 10 ตัว คั่นด้วยช่องว่าง จากนั้นให้นำตัวเลขที่รับเข้ามาเรียงกัน และหาลำดับการเรียงที่ทำให้มีค่าน้อยที่สุด โดยต้องไม่ขึ้นต้นด้วย 0\n",
        "\n",
        "Input : 9 4 6 2  \n",
        "\n",
        "คำตอบ 2469\n",
        "\n",
        "Input : 3 0 8 1 3 3\n",
        "\n",
        "คำตอบ : 103338\n"
      ],
      "metadata": {
        "id": "_3yLG291lSFy"
      }
    },
    {
      "cell_type": "code",
      "source": [
        "num_in = input('Input : ')\n",
        "digits = num_in.split()\n",
        "if len(digits) > 0 and len(digits) <= 10:\n",
        "    single_digit = True\n",
        "    for digit in digits:\n",
        "        if len(digit) != 1:\n",
        "            single_digit = False\n",
        "            break\n",
        "    if single_digit:\n",
        "        sorted_digit = []\n",
        "        while digits:\n",
        "            num_min = '9'\n",
        "            for digit in digits:\n",
        "                if digit < num_min:\n",
        "                    num_min = digit\n",
        "            sorted_digit.append(num_min)\n",
        "            digits.remove(num_min)\n",
        "        if sorted_digit[0] == '0' and len(sorted_digit) > 1:\n",
        "            sorted_digit[0], sorted_digit[1] = sorted_digit[1], sorted_digit[0]\n",
        "        result = \"\"\n",
        "        for digit in sorted_digit:\n",
        "            result += digit\n",
        "        print('คำตอบ', result)\n",
        "    else:\n",
        "        print('ต้องการเลข 1 หลัก')\n",
        "else:\n",
        "    print('ไม่สามารถกรอกเลขเกิน 10 จำนวนได้')\n"
      ],
      "metadata": {
        "id": "ACtXvMEyli0L",
        "outputId": "dd7fc167-f554-45ec-ea9b-1a965b848633",
        "colab": {
          "base_uri": "https://localhost:8080/"
        }
      },
      "execution_count": 18,
      "outputs": [
        {
          "output_type": "stream",
          "name": "stdout",
          "text": [
            "Input : 3 0 8 1 3 3\n",
            "คำตอบ 103338\n"
          ]
        }
      ]
    },
    {
      "cell_type": "markdown",
      "source": [
        "3.\tจากตัวเลขต่อไปนี้ ตัวเลขติดกัน 4 ตัวที่เมื่อนำมาคูณกันแล้วมีค่ามากที่สุดคือ 9 × 9 × 8 × 9 = 5832\n",
        "\n",
        "73167176531330624919225119674426574742355349194934\n",
        "96983520312774506326239578318016984801869478851843\n",
        "85861560789112949495459501737958331952853208805511\n",
        "12540698747158523863050715693290963295227443043557\n",
        "66896648950445244523161731856403098711121722383113\n",
        "62229893423380308135336276614282806444486645238749\n",
        "30358907296290491560440772390713810515859307960866\n",
        "70172427121883998797908792274921901699720888093776\n",
        "65727333001053367881220235421809751254540594752243\n",
        "52584907711670556013604839586446706324415722155397\n",
        "53697817977846174064955149290862569321978468622482\n",
        "83972241375657056057490261407972968652414535100474\n",
        "82166370484403199890008895243450658541227588666881\n",
        "16427171479924442928230863465674813919123162824586\n",
        "17866458359124566529476545682848912883142607690042\n",
        "24219022671055626321111109370544217506941658960408\n",
        "07198403850962455444362981230987879927244284909188\n",
        "84580156166097919133875499200524063689912560717606\n",
        "05886116467109405077541002256983155200055935729725\n",
        "71636269561882670428252483600823257530420752963450\n",
        "\n",
        "จงหาเลขติดกัน 8 ตัวที่เมื่อนำมาคูณกันแล้วมีค่ามากที่สุด และเป็นเลขอะไร ผลคูณเท่ากับเท่าไร\n",
        "\n",
        "The maximum product is: 7838208\n",
        "The digits are: 88399879\n",
        "\n",
        "\n",
        "\n"
      ],
      "metadata": {
        "id": "Gv8aIY7dliSY"
      }
    },
    {
      "cell_type": "code",
      "source": [
        "num = \"\"\"73167176531330624919225119674426574742355349194934\n",
        "96983520312774506326239578318016984801869478851843\n",
        "85861560789112949495459501737958331952853208805511\n",
        "12540698747158523863050715693290963295227443043557\n",
        "66896648950445244523161731856403098711121722383113\n",
        "62229893423380308135336276614282806444486645238749\n",
        "30358907296290491560440772390713810515859307960866\n",
        "70172427121883998797908792274921901699720888093776\n",
        "65727333001053367881220235421809751254540594752243\n",
        "52584907711670556013604839586446706324415722155397\n",
        "53697817977846174064955149290862569321978468622482\n",
        "83972241375657056057490261407972968652414535100474\n",
        "82166370484403199890008895243450658541227588666881\n",
        "16427171479924442928230863465674813919123162824586\n",
        "17866458359124566529476545682848912883142607690042\n",
        "24219022671055626321111109370544217506941658960408\n",
        "07198403850962455444362981230987879927244284909188\n",
        "84580156166097919133875499200524063689912560717606\n",
        "05886116467109405077541002256983155200055935729725\n",
        "71636269561882670428252483600823257530420752963450\"\"\"\n",
        "num = num.replace(\"\\n\",\"\")\n",
        "mix_product = 0\n",
        "mix_digits = \"\"\n",
        "for i in range(len(num) - 7):\n",
        "    digits = num[i:i+8]\n",
        "    product = 1\n",
        "    for digit in digits:\n",
        "        product *= int(digit)\n",
        "    if product > mix_product:\n",
        "        mix_product = product\n",
        "        mix_digits = digits\n",
        "print(f'The maximum product is : {mix_product}')\n",
        "print(f' The digits are : {mix_digits}')"
      ],
      "metadata": {
        "id": "wvVqGMknmBu5",
        "outputId": "5ddd3ea4-717f-47d3-dc4d-8ffa8836cb7c",
        "colab": {
          "base_uri": "https://localhost:8080/"
        }
      },
      "execution_count": 11,
      "outputs": [
        {
          "output_type": "stream",
          "name": "stdout",
          "text": [
            "The maximum product is : 7838208\n",
            " The digits are : 88399879\n"
          ]
        }
      ]
    },
    {
      "cell_type": "markdown",
      "source": [
        "4.\tตัวเลข palindrome คือตัวเลขที่อ่านได้ทั้ง 2 ทาง แล้วมีค่าเท่ากัน เช่น 9009 โดย 9009 คือ palindrome ที่เกิดจากการคูณของตัวเลข 2 หลักที่มากที่สุด คือ 91x99 จงหา palindrome ที่มากที่สุดของตัวเลข 3 หลัก\n",
        "\n",
        "The largest palindrome product of 3-digit numbers is: 906609\n"
      ],
      "metadata": {
        "id": "fjy5LNC7m0We"
      }
    },
    {
      "cell_type": "code",
      "source": [
        "max_product1 = 0\n",
        "max_product2 = 0\n",
        "max_product3 = 0\n",
        "best_i = 0\n",
        "best_j = 0\n",
        "best_o = 0\n",
        "best_p = 0\n",
        "best_a = 0\n",
        "best_b = 0\n",
        "for i in range(100, 1000):\n",
        "    for j in range(i, 1000):\n",
        "        product1 = i * j\n",
        "        str_product1 = str(product1)\n",
        "        if str_product1 == str_product1[::-1] :\n",
        "            if product1 > max_product1:\n",
        "                max_product1 = product1\n",
        "                best_i = i\n",
        "                best_j = j\n",
        "for o in range(1000, 10000):\n",
        "    for p in range(o, 10000):\n",
        "        product2 = o * p\n",
        "        str_product2 = str(product2)\n",
        "        if str_product2 == str_product2[::-1] :\n",
        "            if product2 > max_product2:\n",
        "                max_product2 = product2\n",
        "                best_o = o\n",
        "                best_p = p\n",
        "for a in range(10000, 100000):\n",
        "    for b in range(a, 100000):\n",
        "        product3 = a * b\n",
        "        str_product3 = str(product3)\n",
        "        if str_product3 == str_product3[::-1] :\n",
        "            if product3 > max_product3:\n",
        "                max_product3 = product3\n",
        "                best_a = a\n",
        "                best_b = b\n",
        "print(f\"{best_i} x {best_j} = {max_product1}\")\n",
        "print(f\"{best_o} x {best_p} = {max_product2}\")\n",
        "print(f\"{best_a} x {best_b} = {max_product3}\")"
      ],
      "metadata": {
        "id": "y-QY3hzVmsud",
        "outputId": "f4bddb91-6b38-438d-ba91-1e5ed2abe9e1",
        "colab": {
          "base_uri": "https://localhost:8080/"
        }
      },
      "execution_count": 26,
      "outputs": [
        {
          "output_type": "stream",
          "name": "stdout",
          "text": [
            "913 x 993 = 906609\n",
            "9901 x 9999 = 99000099\n",
            "99681 x 99979 = 9966006699\n"
          ]
        }
      ]
    },
    {
      "cell_type": "markdown",
      "source": [
        "5.\tกำหนดให้ string มีเพียงสัญลักษณ์ '(', ')', '{', '}', '[' และ ']' ให้ตรวจสอบว่า String ถูกต้อง โดย เมื่อมีวงเล็บเปิด จะต้องมีวงเล็บปิดที่เป็นชนิดเดียวกัน จำนวนเท่ากันที่เป็นคู่ของมัน\n",
        "\n",
        "```\n",
        "Input: s = \"()\"\n",
        "Output: true\n",
        "Input: s = \"()[]{}\"\n",
        "Output: true\n",
        "Input: s = \"[()]{}\"\n",
        "Output: true\n",
        "Input: s = \"(]\"\n",
        "Output: false\n",
        "```\n",
        "\n",
        "\n"
      ],
      "metadata": {
        "id": "rUZvLJ-JnGJY"
      }
    },
    {
      "cell_type": "code",
      "source": [
        "s = input(\"Input : s = \")\n",
        "stack = []\n",
        "is_balance = 'True'\n",
        "for i in range(len(s)):\n",
        "    if s[i] == '(' or s[i] == '{' or s[i] == '[':\n",
        "        stack.append(s[i])\n",
        "    elif s[i] == ')' or s[i] == '}' or s[i] == ']':\n",
        "        if len(stack) == 0:\n",
        "            is_balance = 'False'\n",
        "            break\n",
        "        top = stack[-1]\n",
        "        if (s[i] == ')' and top != '(') or (s[i] == ']' and top != '[') or (s[i] == '}' and top != '{')  :\n",
        "            is_balance = 'False'\n",
        "            break\n",
        "        stack = stack[:-1]\n",
        "if len(stack) != 0:\n",
        "    is_balance = 'False'\n",
        "print(is_balance)"
      ],
      "metadata": {
        "id": "Ku8ts4x7nk1y",
        "outputId": "dbb3c22e-afc5-4e54-ce83-984d155e757b",
        "colab": {
          "base_uri": "https://localhost:8080/"
        }
      },
      "execution_count": 15,
      "outputs": [
        {
          "output_type": "stream",
          "name": "stdout",
          "text": [
            "Input : s = ()[]{}\n",
            "True\n"
          ]
        }
      ]
    },
    {
      "cell_type": "markdown",
      "source": [
        "6.\tกำหนดให้รับข้อมูล Integer (เป็นบวกหรือลบก็ได้) จากนั้นให้แสดงผลลัพธ์ที่ reverse ตัวเลขตามตัวอย่าง\n",
        "\n",
        "```\n",
        "Input: x = 123\n",
        "Output: 321\n",
        "Input: x = -123\n",
        "Output: -321\n",
        "Input: x = 120\n",
        "Output: 21\n",
        "```\n",
        "\n"
      ],
      "metadata": {
        "id": "PLL9Wdqqnx7o"
      }
    },
    {
      "cell_type": "code",
      "source": [
        "num = int(input('Enter number : '))\n",
        "num_str = str(num)\n",
        "if num_str.lstrip('-').isnumeric():\n",
        "    num_str = num_str[::-1]\n",
        "    if num_str[-1] == \"-\" :\n",
        "        num_str = num_str.replace(\"-\",\"\")\n",
        "        num_str = \"-\" + num_str\n",
        "    print(int(num_str))\n",
        "else :\n",
        "    print(\"error\")"
      ],
      "metadata": {
        "id": "1LJJjzacWfjJ",
        "outputId": "a8f03f8a-0377-4ad4-ce5b-64bbac329bf2",
        "colab": {
          "base_uri": "https://localhost:8080/"
        }
      },
      "execution_count": 14,
      "outputs": [
        {
          "output_type": "stream",
          "name": "stdout",
          "text": [
            "Enter number : -123\n",
            "-321\n"
          ]
        }
      ]
    },
    {
      "cell_type": "markdown",
      "source": [
        "7.\tเขียนโปรแกรมเพื่อแสดงปิรามิดบนจอภาพ โดยแสดงเป็นรูปสี่เหลี่ยม ตัวเลขเริ่มจาก 0  และเพิ่มค่าตามลําดับจํานวนขั้น จาก 0 ถึง N (รับค่า N จากคีย์บอร์ด) ค่าของ N อยู่ระหว่าง 0-9 ดังตัวอย่าง\n",
        "\n",
        "\n",
        "```\n",
        "\t\t\t\t\t\t\t\t\t         0000000\n",
        "\t\t\t\t\t\t\t    00000\t\t0111110\n",
        "\t\t\t\t\t000\t\t 01110\t\t0122210\n",
        "\t\t\t0\t\t010\t\t01210\t\t0123210\n",
        "\t\t\t\t\t000\t\t 01110\t\t0122210\n",
        "\t\t\t\t\t\t\t    00000\t\t0111110\n",
        "\t\t\t\t\t\t\t\t\t         0000000\n",
        "\n",
        "\t\t\tn=0\t\tn=1\t\tn=2\t\tn=3\n",
        "\n",
        "```\n",
        "\n"
      ],
      "metadata": {
        "id": "KboD6c8rn52a"
      }
    },
    {
      "cell_type": "code",
      "source": [
        "n = int(input('Enter number : '))\n",
        "x = n*2+1\n",
        "if n >= 0 and n <= 9 :\n",
        "  for i in range(x) :\n",
        "      for j in range(x):\n",
        "        top = i\n",
        "        bottom = x - i -1\n",
        "        left = j\n",
        "        right = x - j - 1\n",
        "        border = top\n",
        "        if border > bottom :\n",
        "           border = bottom\n",
        "        if border > left :\n",
        "           border = left\n",
        "        if border > right :\n",
        "           border = right\n",
        "        print(border,end='')\n",
        "      print(end='\\n')\n",
        "else :\n",
        "   print('error')"
      ],
      "metadata": {
        "id": "sGhw6Iyfobiz",
        "outputId": "a6a0f8aa-c947-4476-b110-d7b4721a0aba",
        "colab": {
          "base_uri": "https://localhost:8080/"
        }
      },
      "execution_count": 25,
      "outputs": [
        {
          "output_type": "stream",
          "name": "stdout",
          "text": [
            "Enter number : 3\n",
            "0000000\n",
            "0111110\n",
            "0122210\n",
            "0123210\n",
            "0122210\n",
            "0111110\n",
            "0000000\n"
          ]
        }
      ]
    },
    {
      "cell_type": "markdown",
      "source": [
        "8.\tเขียนโปรแกรมเพื่อแสดงปิรามิดบนจอภาพ โดยแสดงเป็นรูปสี่เหลี่ยม ตัวเลขเริ่มจาก 0  และเพิ่มค่าตามลําดับจํานวนขั้น จาก 0 ถึง N (รับค่า N จากคีย์บอร์ด) กําหนดให้จุดศูนย์กลางของรูปสี่เหลี่ยมอยู่ที่แถว 13 คอลัมน์ 40 ของจอภาพค่าของ N อยู่ระหว่าง 0-9 ดังตัวอย่าง\n",
        "\n",
        "\n",
        "\n",
        "```\n",
        "\t\t\t\t\t\t\t\t\t            0\n",
        "\t\t\t\t\t\t\t      0\t\t    010\n",
        "\t\t\t\t\t  0\t\t  010\t\t  01210\n",
        "\t\t\t0\t\t010\t\t01210\t\t0123210\n",
        "\t\t\t\t\t  0\t\t  010\t\t  01210\n",
        "\t\t\t\t\t\t\t      0\t\t    010\n",
        "\t\t\t\t\t\t\t\t\t            0\n",
        "\n",
        "\t\t\tn=0\t\tn=1\t\tn=2\t\tn=3\n",
        "\n",
        "```\n",
        "\n"
      ],
      "metadata": {
        "id": "ecRYU6Lkob6Q"
      }
    },
    {
      "cell_type": "code",
      "source": [
        "n = int(input('Enter number : '))\n",
        "sum = 0\n",
        "if n >= 0 and n <= 9 :\n",
        "  for i in range(n,-1,-1) :\n",
        "      for j in range(0,n+1):\n",
        "          if  i <= j :\n",
        "              sum = j - i\n",
        "              print(sum,end='')\n",
        "          else :\n",
        "              print(' ',end='')\n",
        "      for j in range(n-1,-1,-1):\n",
        "          if i <= j :\n",
        "              sum = j-i\n",
        "              print(sum,end='')\n",
        "          else :\n",
        "              print(' ',end='')\n",
        "      print(end='\\n')\n",
        "  for i in range(1,n+1):\n",
        "      for j in range(0,n+1):\n",
        "          if i<=j :\n",
        "              sum = j-i\n",
        "              print(sum,end='')\n",
        "          else :\n",
        "              print(' ',end='')\n",
        "      for j in range(n-1,-1,-1):\n",
        "          if i <= j :\n",
        "              sum = j-i\n",
        "              print(sum,end='')\n",
        "          else :\n",
        "              print(' ',end='')\n",
        "      print(end='\\n')\n",
        "else :\n",
        "  print('error')"
      ],
      "metadata": {
        "id": "zkHzzBDoWpav",
        "outputId": "9776148e-fce8-4e9c-d18e-2a5a2ef73816",
        "colab": {
          "base_uri": "https://localhost:8080/"
        }
      },
      "execution_count": 16,
      "outputs": [
        {
          "output_type": "stream",
          "name": "stdout",
          "text": [
            "Enter number : 3\n",
            "   0   \n",
            "  010  \n",
            " 01210 \n",
            "0123210\n",
            " 01210 \n",
            "  010  \n",
            "   0   \n"
          ]
        }
      ]
    },
    {
      "cell_type": "markdown",
      "source": [
        "9.\tให้เขียนโปรแกรมสร้างรูปสามเหลี่ยมที่วางซ้อนกัน 3 รูป โดยแต่ละรูปสร้างมาจากเครื่องหมาย \"*\" โดยกําหนดให้รับตัวเลขระดับของสามเหลี่ยมจากคีย์บอร์ด จากตัวอย่างข้างล่างนี้เป็นรูปสามเหลี่ยมระดับที่ 3 และ 4\n",
        "\n",
        "\n",
        "\n",
        "```\n",
        "              *\n",
        "\t\t     ***\n",
        "\t\t    *****\n",
        "\t\t   *     *\n",
        "\t      ***   ***\n",
        "\t     ***** *****\n",
        "\n",
        "  \t\t    *\n",
        "\t  \t   ***\n",
        "\t\t    *****\n",
        "\t\t   *******\n",
        "\t      *       *\n",
        "\t     ***     ***\n",
        "\t    *****   *****\n",
        "\t   ******* *******\n",
        "\n",
        "```\n",
        "\n"
      ],
      "metadata": {
        "id": "Po50A-Kuo5t4"
      }
    },
    {
      "cell_type": "code",
      "source": [],
      "metadata": {
        "id": "T-WNkGnqmyTE"
      },
      "execution_count": null,
      "outputs": []
    }
  ]
}